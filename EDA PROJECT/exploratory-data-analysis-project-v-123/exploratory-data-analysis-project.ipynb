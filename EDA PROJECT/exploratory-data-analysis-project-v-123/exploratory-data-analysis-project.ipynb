{
 "cells": [
  {
   "cell_type": "markdown",
   "metadata": {
    "id": "5B2zJ2Py5YL7"
   },
   "source": [
    "# **Analysis of Restaurant Inspections in NYC**"
   ]
  },
  {
   "cell_type": "markdown",
   "metadata": {
    "id": "U9-ZNpxarQSH"
   },
   "source": [
    "# **About the Dataset**\n",
    "\n",
    "\n",
    "The Health Department conducts unannounced inspections of restaurants in New York Cit at least once a year. During the inspection, an inspector checks for compliance with city and state food safety regulations.\n",
    "As a result of the inspection,the Health Department may issue violations to a restaurant. Violations of food safety rules carry point values, and a restaurant’s score corresponds to a letter grade. The lower the score, the better the grade.\n",
    " \n",
    "Link to the dataset https://www.kaggle.com/new-york-city/nyc-inspections"
   ]
  },
  {
   "cell_type": "markdown",
   "metadata": {
    "id": "adNCk54Mr31O"
   },
   "source": [
    "# **Installing Libraries**"
   ]
  },
  {
   "cell_type": "code",
   "execution_count": 5,
   "metadata": {
    "executionInfo": {
     "elapsed": 5212,
     "status": "ok",
     "timestamp": 1634418643514,
     "user": {
      "displayName": "Frida",
      "photoUrl": "https://lh3.googleusercontent.com/a/default-user=s64",
      "userId": "00053909376596844775"
     },
     "user_tz": -180
    },
    "id": "XlMEcJIzrHPu"
   },
   "outputs": [],
   "source": [
    "!pip install opendatasets numpy pandas==1.1.5 matplotlib==3.1.3 seaborn squarify --upgrade --quiet"
   ]
  },
  {
   "cell_type": "code",
   "execution_count": 6,
   "metadata": {
    "executionInfo": {
     "elapsed": 32,
     "status": "ok",
     "timestamp": 1634418643515,
     "user": {
      "displayName": "Frida",
      "photoUrl": "https://lh3.googleusercontent.com/a/default-user=s64",
      "userId": "00053909376596844775"
     },
     "user_tz": -180
    },
    "id": "2IdmI1btsDyZ"
   },
   "outputs": [],
   "source": [
    "import pandas as pd\n",
    "import numpy as np"
   ]
  },
  {
   "cell_type": "markdown",
   "metadata": {
    "id": "SchDMBHascL_"
   },
   "source": [
    "# **Downloading the Data**"
   ]
  },
  {
   "cell_type": "code",
   "execution_count": 9,
   "metadata": {
    "executionInfo": {
     "elapsed": 72,
     "status": "ok",
     "timestamp": 1634418644863,
     "user": {
      "displayName": "Frida",
      "photoUrl": "https://lh3.googleusercontent.com/a/default-user=s64",
      "userId": "00053909376596844775"
     },
     "user_tz": -180
    },
    "id": "9eEQlfL9sbEQ"
   },
   "outputs": [],
   "source": [
    "import opendatasets as od"
   ]
  },
  {
   "cell_type": "code",
   "execution_count": 10,
   "metadata": {
    "executionInfo": {
     "elapsed": 71,
     "status": "ok",
     "timestamp": 1634418644864,
     "user": {
      "displayName": "Frida",
      "photoUrl": "https://lh3.googleusercontent.com/a/default-user=s64",
      "userId": "00053909376596844775"
     },
     "user_tz": -180
    },
    "id": "DgkPBuRnsigW"
   },
   "outputs": [],
   "source": [
    "dataset_url = 'https://www.kaggle.com/new-york-city/nyc-inspections'"
   ]
  },
  {
   "cell_type": "code",
   "execution_count": 11,
   "metadata": {
    "colab": {
     "base_uri": "https://localhost:8080/"
    },
    "executionInfo": {
     "elapsed": 71,
     "status": "ok",
     "timestamp": 1634418644865,
     "user": {
      "displayName": "Frida",
      "photoUrl": "https://lh3.googleusercontent.com/a/default-user=s64",
      "userId": "00053909376596844775"
     },
     "user_tz": -180
    },
    "id": "nndcp5HzsrQZ",
    "outputId": "c21b72b3-7cd1-48f2-bf57-6354334b772a"
   },
   "outputs": [
    {
     "name": "stdout",
     "output_type": "stream",
     "text": [
      "Skipping, found downloaded files in \"./nyc-inspections\" (use force=True to force download)\n"
     ]
    }
   ],
   "source": [
    "od.download(dataset_url)"
   ]
  },
  {
   "cell_type": "code",
   "execution_count": 12,
   "metadata": {
    "executionInfo": {
     "elapsed": 42,
     "status": "ok",
     "timestamp": 1634418644866,
     "user": {
      "displayName": "Frida",
      "photoUrl": "https://lh3.googleusercontent.com/a/default-user=s64",
      "userId": "00053909376596844775"
     },
     "user_tz": -180
    },
    "id": "GT54Q5pss09-"
   },
   "outputs": [],
   "source": [
    "import os"
   ]
  },
  {
   "cell_type": "code",
   "execution_count": 13,
   "metadata": {
    "executionInfo": {
     "elapsed": 42,
     "status": "ok",
     "timestamp": 1634418644867,
     "user": {
      "displayName": "Frida",
      "photoUrl": "https://lh3.googleusercontent.com/a/default-user=s64",
      "userId": "00053909376596844775"
     },
     "user_tz": -180
    },
    "id": "K86wxasCs4E_"
   },
   "outputs": [],
   "source": [
    "data_dir = './nyc-inspections'"
   ]
  },
  {
   "cell_type": "code",
   "execution_count": 14,
   "metadata": {
    "colab": {
     "base_uri": "https://localhost:8080/"
    },
    "executionInfo": {
     "elapsed": 28,
     "status": "ok",
     "timestamp": 1634418644868,
     "user": {
      "displayName": "Frida",
      "photoUrl": "https://lh3.googleusercontent.com/a/default-user=s64",
      "userId": "00053909376596844775"
     },
     "user_tz": -180
    },
    "id": "BIouKtRItAeW",
    "outputId": "7c1ec8c3-f7a7-491a-82b5-89318694098d"
   },
   "outputs": [
    {
     "data": {
      "text/plain": [
       "['Restaurant_Inspection_Open_Data_Dictionary_082214.xlsx',\n",
       " 'DOHMH_New_York_City_Restaurant_Inspection_Results.csv']"
      ]
     },
     "execution_count": 14,
     "metadata": {},
     "output_type": "execute_result"
    }
   ],
   "source": [
    "os.listdir(data_dir)"
   ]
  },
  {
   "cell_type": "markdown",
   "metadata": {
    "id": "9EGjVAYrtGAZ"
   },
   "source": [
    "# **Loading data**\n",
    "\n",
    "The downloaded data will be stored in a variable `food_inspections_df`."
   ]
  },
  {
   "cell_type": "code",
   "execution_count": 15,
   "metadata": {
    "executionInfo": {
     "elapsed": 1939,
     "status": "ok",
     "timestamp": 1634418646789,
     "user": {
      "displayName": "Frida",
      "photoUrl": "https://lh3.googleusercontent.com/a/default-user=s64",
      "userId": "00053909376596844775"
     },
     "user_tz": -180
    },
    "id": "yEO1onlotRf2"
   },
   "outputs": [],
   "source": [
    "restaurant_inspections_raw_df = pd.read_csv(data_dir + '/DOHMH_New_York_City_Restaurant_Inspection_Results.csv')"
   ]
  },
  {
   "cell_type": "code",
   "execution_count": 16,
   "metadata": {
    "colab": {
     "base_uri": "https://localhost:8080/",
     "height": 666
    },
    "executionInfo": {
     "elapsed": 39,
     "status": "ok",
     "timestamp": 1634418646791,
     "user": {
      "displayName": "Frida",
      "photoUrl": "https://lh3.googleusercontent.com/a/default-user=s64",
      "userId": "00053909376596844775"
     },
     "user_tz": -180
    },
    "id": "BIiM9D69tn8u",
    "outputId": "8dc35b2e-9686-40d4-c7b1-f51501e08012"
   },
   "outputs": [
    {
     "data": {
      "text/html": [
       "<div>\n",
       "<style scoped>\n",
       "    .dataframe tbody tr th:only-of-type {\n",
       "        vertical-align: middle;\n",
       "    }\n",
       "\n",
       "    .dataframe tbody tr th {\n",
       "        vertical-align: top;\n",
       "    }\n",
       "\n",
       "    .dataframe thead th {\n",
       "        text-align: right;\n",
       "    }\n",
       "</style>\n",
       "<table border=\"1\" class=\"dataframe\">\n",
       "  <thead>\n",
       "    <tr style=\"text-align: right;\">\n",
       "      <th></th>\n",
       "      <th>CAMIS</th>\n",
       "      <th>DBA</th>\n",
       "      <th>BORO</th>\n",
       "      <th>BUILDING</th>\n",
       "      <th>STREET</th>\n",
       "      <th>ZIPCODE</th>\n",
       "      <th>PHONE</th>\n",
       "      <th>CUISINE DESCRIPTION</th>\n",
       "      <th>INSPECTION DATE</th>\n",
       "      <th>ACTION</th>\n",
       "      <th>VIOLATION CODE</th>\n",
       "      <th>VIOLATION DESCRIPTION</th>\n",
       "      <th>CRITICAL FLAG</th>\n",
       "      <th>SCORE</th>\n",
       "      <th>GRADE</th>\n",
       "      <th>GRADE DATE</th>\n",
       "      <th>RECORD DATE</th>\n",
       "      <th>INSPECTION TYPE</th>\n",
       "    </tr>\n",
       "  </thead>\n",
       "  <tbody>\n",
       "    <tr>\n",
       "      <th>0</th>\n",
       "      <td>40511702</td>\n",
       "      <td>NOTARO RESTAURANT</td>\n",
       "      <td>MANHATTAN</td>\n",
       "      <td>635</td>\n",
       "      <td>SECOND AVENUE</td>\n",
       "      <td>10016.0</td>\n",
       "      <td>2126863400</td>\n",
       "      <td>Italian</td>\n",
       "      <td>06/15/2015</td>\n",
       "      <td>Violations were cited in the following area(s).</td>\n",
       "      <td>02B</td>\n",
       "      <td>Hot food item not held at or above 140Âº F.</td>\n",
       "      <td>Critical</td>\n",
       "      <td>30.0</td>\n",
       "      <td>NaN</td>\n",
       "      <td>NaN</td>\n",
       "      <td>08/28/2017</td>\n",
       "      <td>Cycle Inspection / Initial Inspection</td>\n",
       "    </tr>\n",
       "    <tr>\n",
       "      <th>1</th>\n",
       "      <td>40511702</td>\n",
       "      <td>NOTARO RESTAURANT</td>\n",
       "      <td>MANHATTAN</td>\n",
       "      <td>635</td>\n",
       "      <td>SECOND AVENUE</td>\n",
       "      <td>10016.0</td>\n",
       "      <td>2126863400</td>\n",
       "      <td>Italian</td>\n",
       "      <td>11/25/2014</td>\n",
       "      <td>Violations were cited in the following area(s).</td>\n",
       "      <td>20F</td>\n",
       "      <td>Current letter grade card not posted.</td>\n",
       "      <td>Not Critical</td>\n",
       "      <td>NaN</td>\n",
       "      <td>NaN</td>\n",
       "      <td>NaN</td>\n",
       "      <td>08/28/2017</td>\n",
       "      <td>Administrative Miscellaneous / Initial Inspection</td>\n",
       "    </tr>\n",
       "    <tr>\n",
       "      <th>2</th>\n",
       "      <td>50046354</td>\n",
       "      <td>VITE BAR</td>\n",
       "      <td>QUEENS</td>\n",
       "      <td>2507</td>\n",
       "      <td>BROADWAY</td>\n",
       "      <td>11106.0</td>\n",
       "      <td>3478134702</td>\n",
       "      <td>Italian</td>\n",
       "      <td>10/03/2016</td>\n",
       "      <td>Violations were cited in the following area(s).</td>\n",
       "      <td>10F</td>\n",
       "      <td>Non-food contact surface improperly constructe...</td>\n",
       "      <td>Not Critical</td>\n",
       "      <td>2.0</td>\n",
       "      <td>NaN</td>\n",
       "      <td>NaN</td>\n",
       "      <td>08/28/2017</td>\n",
       "      <td>Pre-permit (Operational) / Initial Inspection</td>\n",
       "    </tr>\n",
       "    <tr>\n",
       "      <th>3</th>\n",
       "      <td>50061389</td>\n",
       "      <td>TACK'S CHINESE TAKE OUT</td>\n",
       "      <td>STATEN ISLAND</td>\n",
       "      <td>11C</td>\n",
       "      <td>HOLDEN BLVD</td>\n",
       "      <td>10314.0</td>\n",
       "      <td>7189839854</td>\n",
       "      <td>Chinese</td>\n",
       "      <td>05/17/2017</td>\n",
       "      <td>Violations were cited in the following area(s).</td>\n",
       "      <td>02G</td>\n",
       "      <td>Cold food item held above 41Âº F (smoked fish ...</td>\n",
       "      <td>Critical</td>\n",
       "      <td>46.0</td>\n",
       "      <td>NaN</td>\n",
       "      <td>NaN</td>\n",
       "      <td>08/28/2017</td>\n",
       "      <td>Pre-permit (Operational) / Initial Inspection</td>\n",
       "    </tr>\n",
       "    <tr>\n",
       "      <th>4</th>\n",
       "      <td>41516263</td>\n",
       "      <td>NO QUARTER</td>\n",
       "      <td>BROOKLYN</td>\n",
       "      <td>8015</td>\n",
       "      <td>5 AVENUE</td>\n",
       "      <td>11209.0</td>\n",
       "      <td>7187019180</td>\n",
       "      <td>American</td>\n",
       "      <td>03/30/2017</td>\n",
       "      <td>Violations were cited in the following area(s).</td>\n",
       "      <td>04M</td>\n",
       "      <td>Live roaches present in facility's food and/or...</td>\n",
       "      <td>Critical</td>\n",
       "      <td>18.0</td>\n",
       "      <td>NaN</td>\n",
       "      <td>NaN</td>\n",
       "      <td>08/28/2017</td>\n",
       "      <td>Cycle Inspection / Initial Inspection</td>\n",
       "    </tr>\n",
       "  </tbody>\n",
       "</table>\n",
       "</div>"
      ],
      "text/plain": [
       "      CAMIS  ...                                    INSPECTION TYPE\n",
       "0  40511702  ...              Cycle Inspection / Initial Inspection\n",
       "1  40511702  ...  Administrative Miscellaneous / Initial Inspection\n",
       "2  50046354  ...      Pre-permit (Operational) / Initial Inspection\n",
       "3  50061389  ...      Pre-permit (Operational) / Initial Inspection\n",
       "4  41516263  ...              Cycle Inspection / Initial Inspection\n",
       "\n",
       "[5 rows x 18 columns]"
      ]
     },
     "execution_count": 16,
     "metadata": {},
     "output_type": "execute_result"
    }
   ],
   "source": [
    "restaurant_inspections_raw_df.head(5)"
   ]
  },
  {
   "cell_type": "markdown",
   "metadata": {
    "id": "qnL3eEnrt8tJ"
   },
   "source": [
    "## **Summary of the Data**"
   ]
  },
  {
   "cell_type": "markdown",
   "metadata": {
    "id": "FAYhiH_WuEB3"
   },
   "source": [
    "How many columns and rows does the dataset have?"
   ]
  },
  {
   "cell_type": "code",
   "execution_count": 17,
   "metadata": {
    "colab": {
     "base_uri": "https://localhost:8080/"
    },
    "executionInfo": {
     "elapsed": 39,
     "status": "ok",
     "timestamp": 1634418646793,
     "user": {
      "displayName": "Frida",
      "photoUrl": "https://lh3.googleusercontent.com/a/default-user=s64",
      "userId": "00053909376596844775"
     },
     "user_tz": -180
    },
    "id": "g-CBoV_4t_gN",
    "outputId": "efd286be-7b2d-4320-c286-01ae8bb37e5a"
   },
   "outputs": [
    {
     "data": {
      "text/plain": [
       "(399918, 18)"
      ]
     },
     "execution_count": 17,
     "metadata": {},
     "output_type": "execute_result"
    }
   ],
   "source": [
    "restaurant_inspections_raw_df.shape"
   ]
  },
  {
   "cell_type": "code",
   "execution_count": 18,
   "metadata": {
    "colab": {
     "base_uri": "https://localhost:8080/"
    },
    "executionInfo": {
     "elapsed": 568,
     "status": "ok",
     "timestamp": 1634418647350,
     "user": {
      "displayName": "Frida",
      "photoUrl": "https://lh3.googleusercontent.com/a/default-user=s64",
      "userId": "00053909376596844775"
     },
     "user_tz": -180
    },
    "id": "HYTRGHp2uNqW",
    "outputId": "96732ba8-9f31-43d0-87d3-da5f1c467a53"
   },
   "outputs": [
    {
     "name": "stdout",
     "output_type": "stream",
     "text": [
      "<class 'pandas.core.frame.DataFrame'>\n",
      "RangeIndex: 399918 entries, 0 to 399917\n",
      "Data columns (total 18 columns):\n",
      " #   Column                 Non-Null Count   Dtype  \n",
      "---  ------                 --------------   -----  \n",
      " 0   CAMIS                  399918 non-null  int64  \n",
      " 1   DBA                    399559 non-null  object \n",
      " 2   BORO                   399918 non-null  object \n",
      " 3   BUILDING               399809 non-null  object \n",
      " 4   STREET                 399909 non-null  object \n",
      " 5   ZIPCODE                399909 non-null  float64\n",
      " 6   PHONE                  399913 non-null  object \n",
      " 7   CUISINE DESCRIPTION    399918 non-null  object \n",
      " 8   INSPECTION DATE        399918 non-null  object \n",
      " 9   ACTION                 398783 non-null  object \n",
      " 10  VIOLATION CODE         393414 non-null  object \n",
      " 11  VIOLATION DESCRIPTION  392939 non-null  object \n",
      " 12  CRITICAL FLAG          399918 non-null  object \n",
      " 13  SCORE                  376704 non-null  float64\n",
      " 14  GRADE                  195413 non-null  object \n",
      " 15  GRADE DATE             192820 non-null  object \n",
      " 16  RECORD DATE            399918 non-null  object \n",
      " 17  INSPECTION TYPE        398783 non-null  object \n",
      "dtypes: float64(2), int64(1), object(15)\n",
      "memory usage: 54.9+ MB\n"
     ]
    }
   ],
   "source": [
    "restaurant_inspections_raw_df.info()"
   ]
  },
  {
   "cell_type": "code",
   "execution_count": 19,
   "metadata": {
    "colab": {
     "base_uri": "https://localhost:8080/"
    },
    "executionInfo": {
     "elapsed": 35,
     "status": "ok",
     "timestamp": 1634418647351,
     "user": {
      "displayName": "Frida",
      "photoUrl": "https://lh3.googleusercontent.com/a/default-user=s64",
      "userId": "00053909376596844775"
     },
     "user_tz": -180
    },
    "id": "sLzpbW4TuVjW",
    "outputId": "941c0250-7240-45fb-938c-76cf659d0719"
   },
   "outputs": [
    {
     "data": {
      "text/plain": [
       "Index(['CAMIS', 'DBA', 'BORO', 'BUILDING', 'STREET', 'ZIPCODE', 'PHONE',\n",
       "       'CUISINE DESCRIPTION', 'INSPECTION DATE', 'ACTION', 'VIOLATION CODE',\n",
       "       'VIOLATION DESCRIPTION', 'CRITICAL FLAG', 'SCORE', 'GRADE',\n",
       "       'GRADE DATE', 'RECORD DATE', 'INSPECTION TYPE'],\n",
       "      dtype='object')"
      ]
     },
     "execution_count": 19,
     "metadata": {},
     "output_type": "execute_result"
    }
   ],
   "source": [
    "restaurant_inspections_raw_df.columns"
   ]
  },
  {
   "cell_type": "markdown",
   "metadata": {
    "id": "WdRVS5OEu_I3"
   },
   "source": [
    "# **Data Cleaning**"
   ]
  },
  {
   "cell_type": "code",
   "execution_count": 20,
   "metadata": {
    "executionInfo": {
     "elapsed": 26,
     "status": "ok",
     "timestamp": 1634418647351,
     "user": {
      "displayName": "Frida",
      "photoUrl": "https://lh3.googleusercontent.com/a/default-user=s64",
      "userId": "00053909376596844775"
     },
     "user_tz": -180
    },
    "id": "0UmOVcWg6lqv"
   },
   "outputs": [],
   "source": [
    "selected_columns = ['CAMIS','DBA', 'BORO',  'ZIPCODE', 'CUISINE DESCRIPTION', 'INSPECTION DATE', 'ACTION','VIOLATION CODE',\n",
    "                    'GRADE','VIOLATION DESCRIPTION', 'CRITICAL FLAG', 'SCORE','INSPECTION TYPE']"
   ]
  },
  {
   "cell_type": "code",
   "execution_count": 21,
   "metadata": {
    "executionInfo": {
     "elapsed": 26,
     "status": "ok",
     "timestamp": 1634418647352,
     "user": {
      "displayName": "Frida",
      "photoUrl": "https://lh3.googleusercontent.com/a/default-user=s64",
      "userId": "00053909376596844775"
     },
     "user_tz": -180
    },
    "id": "bd2eULOn6pJu"
   },
   "outputs": [],
   "source": [
    "restaurant_inspections_df = restaurant_inspections_raw_df[selected_columns].copy()"
   ]
  },
  {
   "cell_type": "markdown",
   "metadata": {
    "id": "6bvMsrvfv08J"
   },
   "source": [
    "Let's replace spaces between the columns with  `_`  and change the column names to lower case."
   ]
  },
  {
   "cell_type": "code",
   "execution_count": 22,
   "metadata": {
    "executionInfo": {
     "elapsed": 25,
     "status": "ok",
     "timestamp": 1634418647352,
     "user": {
      "displayName": "Frida",
      "photoUrl": "https://lh3.googleusercontent.com/a/default-user=s64",
      "userId": "00053909376596844775"
     },
     "user_tz": -180
    },
    "id": "d2Hn8z51u9qt"
   },
   "outputs": [],
   "source": [
    "restaurant_inspections_df.columns = restaurant_inspections_df.columns.str.replace(' ','_')"
   ]
  },
  {
   "cell_type": "code",
   "execution_count": 23,
   "metadata": {
    "executionInfo": {
     "elapsed": 26,
     "status": "ok",
     "timestamp": 1634418647353,
     "user": {
      "displayName": "Frida",
      "photoUrl": "https://lh3.googleusercontent.com/a/default-user=s64",
      "userId": "00053909376596844775"
     },
     "user_tz": -180
    },
    "id": "bWgd3Vu2wZBF"
   },
   "outputs": [],
   "source": [
    " restaurant_inspections_df.columns = [x.lower() for x in restaurant_inspections_df.columns]"
   ]
  },
  {
   "cell_type": "code",
   "execution_count": 24,
   "metadata": {
    "colab": {
     "base_uri": "https://localhost:8080/"
    },
    "executionInfo": {
     "elapsed": 26,
     "status": "ok",
     "timestamp": 1634418647354,
     "user": {
      "displayName": "Frida",
      "photoUrl": "https://lh3.googleusercontent.com/a/default-user=s64",
      "userId": "00053909376596844775"
     },
     "user_tz": -180
    },
    "id": "sjcrLHnkvX7G",
    "outputId": "6d901cb6-9c33-47db-8dc7-7839528ab182"
   },
   "outputs": [
    {
     "data": {
      "text/plain": [
       "Index(['camis', 'dba', 'boro', 'zipcode', 'cuisine_description',\n",
       "       'inspection_date', 'action', 'violation_code', 'grade',\n",
       "       'violation_description', 'critical_flag', 'score', 'inspection_type'],\n",
       "      dtype='object')"
      ]
     },
     "execution_count": 24,
     "metadata": {},
     "output_type": "execute_result"
    }
   ],
   "source": [
    "restaurant_inspections_df.columns"
   ]
  },
  {
   "cell_type": "code",
   "execution_count": 25,
   "metadata": {
    "executionInfo": {
     "elapsed": 20,
     "status": "ok",
     "timestamp": 1634418647355,
     "user": {
      "displayName": "Frida",
      "photoUrl": "https://lh3.googleusercontent.com/a/default-user=s64",
      "userId": "00053909376596844775"
     },
     "user_tz": -180
    },
    "id": "TEO62CBDwE8f"
   },
   "outputs": [],
   "source": [
    "import datetime"
   ]
  },
  {
   "cell_type": "code",
   "execution_count": 26,
   "metadata": {
    "colab": {
     "base_uri": "https://localhost:8080/"
    },
    "executionInfo": {
     "elapsed": 19,
     "status": "ok",
     "timestamp": 1634418647355,
     "user": {
      "displayName": "Frida",
      "photoUrl": "https://lh3.googleusercontent.com/a/default-user=s64",
      "userId": "00053909376596844775"
     },
     "user_tz": -180
    },
    "id": "eOf0U2xawOIG",
    "outputId": "7dc0eba9-c8ba-4a3e-df38-46a69ba04155"
   },
   "outputs": [
    {
     "data": {
      "text/plain": [
       "0         06/15/2015\n",
       "1         11/25/2014\n",
       "2         10/03/2016\n",
       "3         05/17/2017\n",
       "4         03/30/2017\n",
       "             ...    \n",
       "399913    01/28/2016\n",
       "399914    02/29/2016\n",
       "399915    01/05/2017\n",
       "399916    09/19/2014\n",
       "399917    11/15/2016\n",
       "Name: inspection_date, Length: 399918, dtype: object"
      ]
     },
     "execution_count": 26,
     "metadata": {},
     "output_type": "execute_result"
    }
   ],
   "source": [
    "restaurant_inspections_df.inspection_date"
   ]
  },
  {
   "cell_type": "code",
   "execution_count": 27,
   "metadata": {
    "executionInfo": {
     "elapsed": 13,
     "status": "ok",
     "timestamp": 1634418647356,
     "user": {
      "displayName": "Frida",
      "photoUrl": "https://lh3.googleusercontent.com/a/default-user=s64",
      "userId": "00053909376596844775"
     },
     "user_tz": -180
    },
    "id": "JEHPDwHZxQ_-"
   },
   "outputs": [],
   "source": [
    "restaurant_inspections_df['inspection_date'] = pd.to_datetime(restaurant_inspections_df.inspection_date)"
   ]
  },
  {
   "cell_type": "code",
   "execution_count": 28,
   "metadata": {
    "executionInfo": {
     "elapsed": 509,
     "status": "ok",
     "timestamp": 1634418647853,
     "user": {
      "displayName": "Frida",
      "photoUrl": "https://lh3.googleusercontent.com/a/default-user=s64",
      "userId": "00053909376596844775"
     },
     "user_tz": -180
    },
    "id": "MxolDGr-xhee"
   },
   "outputs": [],
   "source": [
    "restaurant_inspections_df['year'] = pd.DatetimeIndex(restaurant_inspections_df.inspection_date).year\n",
    "restaurant_inspections_df['month'] = pd.DatetimeIndex(restaurant_inspections_df.inspection_date).month\n",
    "restaurant_inspections_df['day'] = pd.DatetimeIndex(restaurant_inspections_df.inspection_date).day\n",
    "restaurant_inspections_df['weekday'] = pd.DatetimeIndex(restaurant_inspections_df.inspection_date).weekday"
   ]
  },
  {
   "cell_type": "code",
   "execution_count": 29,
   "metadata": {
    "colab": {
     "base_uri": "https://localhost:8080/",
     "height": 417
    },
    "executionInfo": {
     "elapsed": 98,
     "status": "ok",
     "timestamp": 1634418647855,
     "user": {
      "displayName": "Frida",
      "photoUrl": "https://lh3.googleusercontent.com/a/default-user=s64",
      "userId": "00053909376596844775"
     },
     "user_tz": -180
    },
    "id": "Ow_1jrf8y-e1",
    "outputId": "a58de065-dee9-46c3-a5eb-48493da9f8b1"
   },
   "outputs": [
    {
     "data": {
      "text/html": [
       "<div>\n",
       "<style scoped>\n",
       "    .dataframe tbody tr th:only-of-type {\n",
       "        vertical-align: middle;\n",
       "    }\n",
       "\n",
       "    .dataframe tbody tr th {\n",
       "        vertical-align: top;\n",
       "    }\n",
       "\n",
       "    .dataframe thead th {\n",
       "        text-align: right;\n",
       "    }\n",
       "</style>\n",
       "<table border=\"1\" class=\"dataframe\">\n",
       "  <thead>\n",
       "    <tr style=\"text-align: right;\">\n",
       "      <th></th>\n",
       "      <th>camis</th>\n",
       "      <th>dba</th>\n",
       "      <th>boro</th>\n",
       "      <th>zipcode</th>\n",
       "      <th>cuisine_description</th>\n",
       "      <th>inspection_date</th>\n",
       "      <th>action</th>\n",
       "      <th>violation_code</th>\n",
       "      <th>grade</th>\n",
       "      <th>violation_description</th>\n",
       "      <th>critical_flag</th>\n",
       "      <th>score</th>\n",
       "      <th>inspection_type</th>\n",
       "      <th>year</th>\n",
       "      <th>month</th>\n",
       "      <th>day</th>\n",
       "      <th>weekday</th>\n",
       "    </tr>\n",
       "  </thead>\n",
       "  <tbody>\n",
       "    <tr>\n",
       "      <th>0</th>\n",
       "      <td>40511702</td>\n",
       "      <td>NOTARO RESTAURANT</td>\n",
       "      <td>MANHATTAN</td>\n",
       "      <td>10016.0</td>\n",
       "      <td>Italian</td>\n",
       "      <td>2015-06-15</td>\n",
       "      <td>Violations were cited in the following area(s).</td>\n",
       "      <td>02B</td>\n",
       "      <td>NaN</td>\n",
       "      <td>Hot food item not held at or above 140Âº F.</td>\n",
       "      <td>Critical</td>\n",
       "      <td>30.0</td>\n",
       "      <td>Cycle Inspection / Initial Inspection</td>\n",
       "      <td>2015</td>\n",
       "      <td>6</td>\n",
       "      <td>15</td>\n",
       "      <td>0</td>\n",
       "    </tr>\n",
       "    <tr>\n",
       "      <th>1</th>\n",
       "      <td>40511702</td>\n",
       "      <td>NOTARO RESTAURANT</td>\n",
       "      <td>MANHATTAN</td>\n",
       "      <td>10016.0</td>\n",
       "      <td>Italian</td>\n",
       "      <td>2014-11-25</td>\n",
       "      <td>Violations were cited in the following area(s).</td>\n",
       "      <td>20F</td>\n",
       "      <td>NaN</td>\n",
       "      <td>Current letter grade card not posted.</td>\n",
       "      <td>Not Critical</td>\n",
       "      <td>NaN</td>\n",
       "      <td>Administrative Miscellaneous / Initial Inspection</td>\n",
       "      <td>2014</td>\n",
       "      <td>11</td>\n",
       "      <td>25</td>\n",
       "      <td>1</td>\n",
       "    </tr>\n",
       "    <tr>\n",
       "      <th>2</th>\n",
       "      <td>50046354</td>\n",
       "      <td>VITE BAR</td>\n",
       "      <td>QUEENS</td>\n",
       "      <td>11106.0</td>\n",
       "      <td>Italian</td>\n",
       "      <td>2016-10-03</td>\n",
       "      <td>Violations were cited in the following area(s).</td>\n",
       "      <td>10F</td>\n",
       "      <td>NaN</td>\n",
       "      <td>Non-food contact surface improperly constructe...</td>\n",
       "      <td>Not Critical</td>\n",
       "      <td>2.0</td>\n",
       "      <td>Pre-permit (Operational) / Initial Inspection</td>\n",
       "      <td>2016</td>\n",
       "      <td>10</td>\n",
       "      <td>3</td>\n",
       "      <td>0</td>\n",
       "    </tr>\n",
       "  </tbody>\n",
       "</table>\n",
       "</div>"
      ],
      "text/plain": [
       "      camis                dba       boro  zipcode  ...  year month day weekday\n",
       "0  40511702  NOTARO RESTAURANT  MANHATTAN  10016.0  ...  2015     6  15       0\n",
       "1  40511702  NOTARO RESTAURANT  MANHATTAN  10016.0  ...  2014    11  25       1\n",
       "2  50046354           VITE BAR     QUEENS  11106.0  ...  2016    10   3       0\n",
       "\n",
       "[3 rows x 17 columns]"
      ]
     },
     "execution_count": 29,
     "metadata": {},
     "output_type": "execute_result"
    }
   ],
   "source": [
    "restaurant_inspections_df.head(3)"
   ]
  },
  {
   "cell_type": "markdown",
   "metadata": {
    "id": "VTpt5IGmyoFU"
   },
   "source": [
    "We will work with a subset of data from the year 2015 to 2017."
   ]
  },
  {
   "cell_type": "code",
   "execution_count": 30,
   "metadata": {
    "executionInfo": {
     "elapsed": 88,
     "status": "ok",
     "timestamp": 1634418647856,
     "user": {
      "displayName": "Frida",
      "photoUrl": "https://lh3.googleusercontent.com/a/default-user=s64",
      "userId": "00053909376596844775"
     },
     "user_tz": -180
    },
    "id": "xeeKdnV3F8eZ"
   },
   "outputs": [],
   "source": [
    "restaurant_inspections_df = restaurant_inspections_df[(restaurant_inspections_df['year']>= 2015) & (restaurant_inspections_df['year']<=2017)]"
   ]
  },
  {
   "cell_type": "markdown",
   "metadata": {
    "id": "aSj6t42Ey4Ea"
   },
   "source": [
    "Let's confirm if the filter worked."
   ]
  },
  {
   "cell_type": "code",
   "execution_count": 31,
   "metadata": {
    "colab": {
     "base_uri": "https://localhost:8080/"
    },
    "executionInfo": {
     "elapsed": 95,
     "status": "ok",
     "timestamp": 1634418647864,
     "user": {
      "displayName": "Frida",
      "photoUrl": "https://lh3.googleusercontent.com/a/default-user=s64",
      "userId": "00053909376596844775"
     },
     "user_tz": -180
    },
    "id": "P0ngQb8jF_iH",
    "outputId": "2de2215f-47f0-49ef-8473-744bc5d83772"
   },
   "outputs": [
    {
     "data": {
      "text/plain": [
       "count    312078.000000\n",
       "mean       2015.878662\n",
       "std           0.783203\n",
       "min        2015.000000\n",
       "25%        2015.000000\n",
       "50%        2016.000000\n",
       "75%        2017.000000\n",
       "max        2017.000000\n",
       "Name: year, dtype: float64"
      ]
     },
     "execution_count": 31,
     "metadata": {},
     "output_type": "execute_result"
    }
   ],
   "source": [
    "restaurant_inspections_df.year.describe()"
   ]
  },
  {
   "cell_type": "markdown",
   "metadata": {
    "id": "AMEJKvFW8G4S"
   },
   "source": [
    "# **Exploratory Analysis and Visualization**"
   ]
  },
  {
   "cell_type": "code",
   "execution_count": 32,
   "metadata": {
    "executionInfo": {
     "elapsed": 3453,
     "status": "ok",
     "timestamp": 1634418651292,
     "user": {
      "displayName": "Frida",
      "photoUrl": "https://lh3.googleusercontent.com/a/default-user=s64",
      "userId": "00053909376596844775"
     },
     "user_tz": -180
    },
    "id": "n4NymAWN8F3G"
   },
   "outputs": [],
   "source": [
    "import seaborn as sns\n",
    "import matplotlib\n",
    "import matplotlib.pyplot as plt\n",
    "%matplotlib inline\n",
    "import squarify\n",
    "\n",
    "sns.set_style('darkgrid')\n",
    "matplotlib.rcParams['font.size'] = 14\n",
    "matplotlib.rcParams['figure.figsize'] = (9, 5)\n",
    "matplotlib.rcParams['figure.facecolor'] = '#E6E6FA'"
   ]
  },
  {
   "cell_type": "markdown",
   "metadata": {
    "id": "WEIbkQXvcs23"
   },
   "source": [
    "# **Restaurants and Boroughs:**"
   ]
  },
  {
   "cell_type": "markdown",
   "metadata": {
    "id": "WOZ3_PvBAyoR"
   },
   "source": [
    "**How many restaurants are there in the dataset?**"
   ]
  },
  {
   "cell_type": "code",
   "execution_count": 35,
   "metadata": {
    "executionInfo": {
     "elapsed": 158,
     "status": "ok",
     "timestamp": 1634418657488,
     "user": {
      "displayName": "Frida",
      "photoUrl": "https://lh3.googleusercontent.com/a/default-user=s64",
      "userId": "00053909376596844775"
     },
     "user_tz": -180
    },
    "id": "VcYsoNXYA_jt"
   },
   "outputs": [],
   "source": [
    "total_restaurants =restaurant_inspections_df.dba.nunique()"
   ]
  },
  {
   "cell_type": "code",
   "execution_count": 36,
   "metadata": {
    "colab": {
     "base_uri": "https://localhost:8080/"
    },
    "executionInfo": {
     "elapsed": 158,
     "status": "ok",
     "timestamp": 1634418657489,
     "user": {
      "displayName": "Frida",
      "photoUrl": "https://lh3.googleusercontent.com/a/default-user=s64",
      "userId": "00053909376596844775"
     },
     "user_tz": -180
    },
    "id": "E3IFFIvKBGOd",
    "outputId": "dc8a291a-8755-4ec5-b0b4-c8580fb7dd25"
   },
   "outputs": [
    {
     "name": "stdout",
     "output_type": "stream",
     "text": [
      "There are 20303 restaurants in the dataset.\n"
     ]
    }
   ],
   "source": [
    "print('There are {} restaurants in the dataset.'.format(int(total_restaurants)))"
   ]
  },
  {
   "cell_type": "markdown",
   "metadata": {
    "id": "p283_tdzJRtX"
   },
   "source": [
    "**Which restaurants are the most inspected restaurants?**"
   ]
  },
  {
   "cell_type": "code",
   "execution_count": 37,
   "metadata": {
    "colab": {
     "base_uri": "https://localhost:8080/",
     "height": 700
    },
    "executionInfo": {
     "elapsed": 151,
     "status": "ok",
     "timestamp": 1634418657490,
     "user": {
      "displayName": "Frida",
      "photoUrl": "https://lh3.googleusercontent.com/a/default-user=s64",
      "userId": "00053909376596844775"
     },
     "user_tz": -180
    },
    "id": "r-GWIR_ZJX1w",
    "outputId": "d9cf095b-bce9-4ab2-c194-368bde37b6ef"
   },
   "outputs": [
    {
     "data": {
      "text/html": [
       "<div>\n",
       "<style scoped>\n",
       "    .dataframe tbody tr th:only-of-type {\n",
       "        vertical-align: middle;\n",
       "    }\n",
       "\n",
       "    .dataframe tbody tr th {\n",
       "        vertical-align: top;\n",
       "    }\n",
       "\n",
       "    .dataframe thead th {\n",
       "        text-align: right;\n",
       "    }\n",
       "</style>\n",
       "<table border=\"1\" class=\"dataframe\">\n",
       "  <thead>\n",
       "    <tr style=\"text-align: right;\">\n",
       "      <th></th>\n",
       "      <th>camis</th>\n",
       "    </tr>\n",
       "    <tr>\n",
       "      <th>dba</th>\n",
       "      <th></th>\n",
       "    </tr>\n",
       "  </thead>\n",
       "  <tbody>\n",
       "    <tr>\n",
       "      <th>DUNKIN' DONUTS</th>\n",
       "      <td>3338</td>\n",
       "    </tr>\n",
       "    <tr>\n",
       "      <th>SUBWAY</th>\n",
       "      <td>3060</td>\n",
       "    </tr>\n",
       "    <tr>\n",
       "      <th>MCDONALD'S</th>\n",
       "      <td>2117</td>\n",
       "    </tr>\n",
       "    <tr>\n",
       "      <th>STARBUCKS</th>\n",
       "      <td>1660</td>\n",
       "    </tr>\n",
       "    <tr>\n",
       "      <th>DUNKIN' DONUTS, BASKIN ROBBINS</th>\n",
       "      <td>1073</td>\n",
       "    </tr>\n",
       "    <tr>\n",
       "      <th>DOMINO'S</th>\n",
       "      <td>1067</td>\n",
       "    </tr>\n",
       "    <tr>\n",
       "      <th>KENNEDY FRIED CHICKEN</th>\n",
       "      <td>1000</td>\n",
       "    </tr>\n",
       "    <tr>\n",
       "      <th>CROWN FRIED CHICKEN</th>\n",
       "      <td>939</td>\n",
       "    </tr>\n",
       "    <tr>\n",
       "      <th>BURGER KING</th>\n",
       "      <td>876</td>\n",
       "    </tr>\n",
       "    <tr>\n",
       "      <th>GOLDEN KRUST CARIBBEAN BAKERY &amp; GRILL</th>\n",
       "      <td>742</td>\n",
       "    </tr>\n",
       "    <tr>\n",
       "      <th>CHIPOTLE MEXICAN GRILL</th>\n",
       "      <td>730</td>\n",
       "    </tr>\n",
       "    <tr>\n",
       "      <th>POPEYES LOUISIANA KITCHEN</th>\n",
       "      <td>700</td>\n",
       "    </tr>\n",
       "    <tr>\n",
       "      <th>PAPA JOHN'S</th>\n",
       "      <td>656</td>\n",
       "    </tr>\n",
       "    <tr>\n",
       "      <th>WENDY'S</th>\n",
       "      <td>428</td>\n",
       "    </tr>\n",
       "    <tr>\n",
       "      <th>KFC</th>\n",
       "      <td>408</td>\n",
       "    </tr>\n",
       "    <tr>\n",
       "      <th>CARVEL ICE CREAM</th>\n",
       "      <td>358</td>\n",
       "    </tr>\n",
       "    <tr>\n",
       "      <th>LE PAIN QUOTIDIEN</th>\n",
       "      <td>352</td>\n",
       "    </tr>\n",
       "    <tr>\n",
       "      <th>CHECKERS</th>\n",
       "      <td>349</td>\n",
       "    </tr>\n",
       "    <tr>\n",
       "      <th>LITTLE CAESARS</th>\n",
       "      <td>319</td>\n",
       "    </tr>\n",
       "    <tr>\n",
       "      <th>AU BON PAIN</th>\n",
       "      <td>310</td>\n",
       "    </tr>\n",
       "  </tbody>\n",
       "</table>\n",
       "</div>"
      ],
      "text/plain": [
       "                                       camis\n",
       "dba                                         \n",
       "DUNKIN' DONUTS                          3338\n",
       "SUBWAY                                  3060\n",
       "MCDONALD'S                              2117\n",
       "STARBUCKS                               1660\n",
       "DUNKIN' DONUTS, BASKIN ROBBINS          1073\n",
       "DOMINO'S                                1067\n",
       "KENNEDY FRIED CHICKEN                   1000\n",
       "CROWN FRIED CHICKEN                      939\n",
       "BURGER KING                              876\n",
       "GOLDEN KRUST CARIBBEAN BAKERY & GRILL    742\n",
       "CHIPOTLE MEXICAN GRILL                   730\n",
       "POPEYES LOUISIANA KITCHEN                700\n",
       "PAPA JOHN'S                              656\n",
       "WENDY'S                                  428\n",
       "KFC                                      408\n",
       "CARVEL ICE CREAM                         358\n",
       "LE PAIN QUOTIDIEN                        352\n",
       "CHECKERS                                 349\n",
       "LITTLE CAESARS                           319\n",
       "AU BON PAIN                              310"
      ]
     },
     "execution_count": 37,
     "metadata": {},
     "output_type": "execute_result"
    }
   ],
   "source": [
    "most_inspected_restaurant =restaurant_inspections_df.groupby(['dba']).agg({'camis': 'count'\n",
    " }).sort_values('camis',ascending=False).head(20)\n",
    "most_inspected_restaurant"
   ]
  },
  {
   "cell_type": "markdown",
   "metadata": {
    "id": "4CPsK92gdRCH"
   },
   "source": [
    " **Which boroughs were included in the restaurant inspections?**"
   ]
  },
  {
   "cell_type": "code",
   "execution_count": 39,
   "metadata": {
    "executionInfo": {
     "elapsed": 141,
     "status": "ok",
     "timestamp": 1634418657494,
     "user": {
      "displayName": "Frida",
      "photoUrl": "https://lh3.googleusercontent.com/a/default-user=s64",
      "userId": "00053909376596844775"
     },
     "user_tz": -180
    },
    "id": "Cq2VSXgYCqzM"
   },
   "outputs": [],
   "source": [
    "boroughs = restaurant_inspections_df.boro.unique()"
   ]
  },
  {
   "cell_type": "code",
   "execution_count": 40,
   "metadata": {
    "colab": {
     "base_uri": "https://localhost:8080/"
    },
    "executionInfo": {
     "elapsed": 141,
     "status": "ok",
     "timestamp": 1634418657495,
     "user": {
      "displayName": "Frida",
      "photoUrl": "https://lh3.googleusercontent.com/a/default-user=s64",
      "userId": "00053909376596844775"
     },
     "user_tz": -180
    },
    "id": "vY6ZB76pC5ok",
    "outputId": "8e6df940-09cc-4bce-d06b-05a907c6f6fa"
   },
   "outputs": [
    {
     "name": "stdout",
     "output_type": "stream",
     "text": [
      "The inspections were done in the following boroughs ['MANHATTAN' 'QUEENS' 'STATEN ISLAND' 'BROOKLYN' 'BRONX'].\n"
     ]
    }
   ],
   "source": [
    "print('The inspections were done in the following boroughs {}.'.format(str(boroughs)))"
   ]
  },
  {
   "cell_type": "markdown",
   "metadata": {
    "id": "P23U4mOWDQrz"
   },
   "source": [
    "**What are the counts of the inspections made in each of these boroughs?**"
   ]
  },
  {
   "cell_type": "code",
   "execution_count": 41,
   "metadata": {
    "executionInfo": {
     "elapsed": 133,
     "status": "ok",
     "timestamp": 1634418657496,
     "user": {
      "displayName": "Frida",
      "photoUrl": "https://lh3.googleusercontent.com/a/default-user=s64",
      "userId": "00053909376596844775"
     },
     "user_tz": -180
    },
    "id": "Ht4zuRHYdknA"
   },
   "outputs": [],
   "source": [
    "borough_counts = restaurant_inspections_df.boro.value_counts(normalize=True)"
   ]
  },
  {
   "cell_type": "code",
   "execution_count": 42,
   "metadata": {
    "colab": {
     "base_uri": "https://localhost:8080/",
     "height": 486
    },
    "executionInfo": {
     "elapsed": 133,
     "status": "ok",
     "timestamp": 1634418657497,
     "user": {
      "displayName": "Frida",
      "photoUrl": "https://lh3.googleusercontent.com/a/default-user=s64",
      "userId": "00053909376596844775"
     },
     "user_tz": -180
    },
    "id": "TL-JtCRyhtZH",
    "outputId": "2f5b0364-d37f-4243-b362-7e4031aeb0ed"
   },
   "outputs": [
    {
     "data": {
      "image/png": "[encoded data removed]",
      "text/plain": [
       "<Figure size 1080x576 with 1 Axes>"
      ]
     },
     "metadata": {},
     "output_type": "display_data"
    }
   ],
   "source": [
    "plt.figure(figsize=(15,8))\n",
    "plt.title('Most Inspected Borough')\n",
    "squarify.plot(sizes=borough_counts,label=borough_counts.index,pad=True,color=['#573076','#b75b7d','#181061','#efbe5b','#882476'])\n",
    "plt.axis('off')\n",
    "plt.show()"
   ]
  },
  {
   "cell_type": "markdown",
   "metadata": {
    "id": "UJ7mJaEzmMqd"
   },
   "source": [
    "Manhattan is the most inspected borough while Staten Island is the least inspected."
   ]
  },
  {
   "cell_type": "markdown",
   "metadata": {
    "id": "zB3JqSwNFWHb"
   },
   "source": [
    "**Number of restaurants per borough**"
   ]
  },
  {
   "cell_type": "code",
   "execution_count": 43,
   "metadata": {
    "colab": {
     "base_uri": "https://localhost:8080/",
     "height": 235
    },
    "executionInfo": {
     "elapsed": 131,
     "status": "ok",
     "timestamp": 1634418657498,
     "user": {
      "displayName": "Frida",
      "photoUrl": "https://lh3.googleusercontent.com/a/default-user=s64",
      "userId": "00053909376596844775"
     },
     "user_tz": -180
    },
    "id": "jyTlPiFNDwVe",
    "outputId": "6b865561-9128-42cc-e10a-89ad72c6af5d"
   },
   "outputs": [
    {
     "data": {
      "text/html": [
       "<div>\n",
       "<style scoped>\n",
       "    .dataframe tbody tr th:only-of-type {\n",
       "        vertical-align: middle;\n",
       "    }\n",
       "\n",
       "    .dataframe tbody tr th {\n",
       "        vertical-align: top;\n",
       "    }\n",
       "\n",
       "    .dataframe thead th {\n",
       "        text-align: right;\n",
       "    }\n",
       "</style>\n",
       "<table border=\"1\" class=\"dataframe\">\n",
       "  <thead>\n",
       "    <tr style=\"text-align: right;\">\n",
       "      <th></th>\n",
       "      <th>dba</th>\n",
       "    </tr>\n",
       "    <tr>\n",
       "      <th>boro</th>\n",
       "      <th></th>\n",
       "    </tr>\n",
       "  </thead>\n",
       "  <tbody>\n",
       "    <tr>\n",
       "      <th>MANHATTAN</th>\n",
       "      <td>123824</td>\n",
       "    </tr>\n",
       "    <tr>\n",
       "      <th>BROOKLYN</th>\n",
       "      <td>78325</td>\n",
       "    </tr>\n",
       "    <tr>\n",
       "      <th>QUEENS</th>\n",
       "      <td>71542</td>\n",
       "    </tr>\n",
       "    <tr>\n",
       "      <th>BRONX</th>\n",
       "      <td>28042</td>\n",
       "    </tr>\n",
       "    <tr>\n",
       "      <th>STATEN ISLAND</th>\n",
       "      <td>10345</td>\n",
       "    </tr>\n",
       "  </tbody>\n",
       "</table>\n",
       "</div>"
      ],
      "text/plain": [
       "                  dba\n",
       "boro                 \n",
       "MANHATTAN      123824\n",
       "BROOKLYN        78325\n",
       "QUEENS          71542\n",
       "BRONX           28042\n",
       "STATEN ISLAND   10345"
      ]
     },
     "execution_count": 43,
     "metadata": {},
     "output_type": "execute_result"
    }
   ],
   "source": [
    "restaurant_inspections_df.groupby('boro').agg({'dba':'count'}).sort_values(by='dba',ascending=False)"
   ]
  },
  {
   "cell_type": "markdown",
   "metadata": {
    "id": "mY-nWVtcE95U"
   },
   "source": [
    "Manhattan has the highest number of restaurants while Staten has the least number of restaurants. This can explain why it is the most inspected borough in NYC."
   ]
  },
  {
   "cell_type": "code",
   "execution_count": 44,
   "metadata": {
    "executionInfo": {
     "elapsed": 129,
     "status": "ok",
     "timestamp": 1634418657498,
     "user": {
      "displayName": "Frida",
      "photoUrl": "https://lh3.googleusercontent.com/a/default-user=s64",
      "userId": "00053909376596844775"
     },
     "user_tz": -180
    },
    "id": "BYstpyAihDPE"
   },
   "outputs": [],
   "source": [
    "import jovian"
   ]
  },
  {
   "cell_type": "markdown",
   "metadata": {
    "id": "K9FIwxb0II9B"
   },
   "source": [
    "# **Inspections:**"
   ]
  },
  {
   "cell_type": "markdown",
   "metadata": {
    "id": "HvoPUWAK-PgW"
   },
   "source": [
    " **How many inspections were done monthly, weekly, daily?**"
   ]
  },
  {
   "cell_type": "code",
   "execution_count": 46,
   "metadata": {
    "colab": {
     "base_uri": "https://localhost:8080/",
     "height": 528
    },
    "executionInfo": {
     "elapsed": 236,
     "status": "ok",
     "timestamp": 1634418660384,
     "user": {
      "displayName": "Frida",
      "photoUrl": "https://lh3.googleusercontent.com/a/default-user=s64",
      "userId": "00053909376596844775"
     },
     "user_tz": -180
    },
    "id": "DYnoIkJw_HQe",
    "outputId": "f7e9a851-5792-42c3-b681-e3989b243972"
   },
   "outputs": [
    {
     "data": {
      "image/png": "[encoded data removed]",
      "text/plain": [
       "<Figure size 1440x576 with 3 Axes>"
      ]
     },
     "metadata": {},
     "output_type": "display_data"
    }
   ],
   "source": [
    "fig, axes = plt.subplots(1,3, figsize=(20,8))\n",
    "fig.tight_layout(h_pad =5)\n",
    "\n",
    "axes[0].set_title('Monthly Inspections',fontsize=20)\n",
    "axes[0].set_xlabel('Month')\n",
    "axes[0].set_ylabel('Counts')\n",
    "restaurant_inspections_df.month.value_counts().plot(kind='bar',ax=axes[0],color='tab:green');\n",
    "\n",
    "axes[1].set_title('Weekly Inspections',fontsize=20)\n",
    "axes[1].set_xlabel('Week')\n",
    "axes[1].set_ylabel('Counts')\n",
    "restaurant_inspections_df.weekday.value_counts().plot(kind='bar',ax=axes[1],color='tab:red');\n",
    "\n",
    "axes[2].set_title('Daily Inspections',fontsize=20)\n",
    "axes[2].set_xlabel('Day')\n",
    "axes[2].set_ylabel('Counts')\n",
    "restaurant_inspections_df.day.value_counts().plot(kind='bar',ax=axes[2],color ='tab:blue');\n"
   ]
  },
  {
   "cell_type": "markdown",
   "metadata": {
    "id": "2ZwY0ivYJyN2"
   },
   "source": [
    "**What are the different grades given during inspection?**"
   ]
  },
  {
   "cell_type": "code",
   "execution_count": 47,
   "metadata": {
    "colab": {
     "base_uri": "https://localhost:8080/"
    },
    "executionInfo": {
     "elapsed": 236,
     "status": "ok",
     "timestamp": 1634418660390,
     "user": {
      "displayName": "Frida",
      "photoUrl": "https://lh3.googleusercontent.com/a/default-user=s64",
      "userId": "00053909376596844775"
     },
     "user_tz": -180
    },
    "id": "JflsI_-n0q6F",
    "outputId": "a5c2017f-e16b-49bd-f5e1-c503ff407b8f"
   },
   "outputs": [
    {
     "data": {
      "text/plain": [
       "array([nan, 'C', 'A', 'B', 'Z', 'Not Yet Graded', 'P'], dtype=object)"
      ]
     },
     "execution_count": 47,
     "metadata": {},
     "output_type": "execute_result"
    }
   ],
   "source": [
    "restaurant_inspections_df.grade.unique()"
   ]
  },
  {
   "cell_type": "markdown",
   "metadata": {
    "id": "FQwLv4ke2NoN"
   },
   "source": [
    "**Distribution of grades**"
   ]
  },
  {
   "cell_type": "code",
   "execution_count": 48,
   "metadata": {
    "colab": {
     "base_uri": "https://localhost:8080/",
     "height": 376
    },
    "executionInfo": {
     "elapsed": 226,
     "status": "ok",
     "timestamp": 1634418660391,
     "user": {
      "displayName": "Frida",
      "photoUrl": "https://lh3.googleusercontent.com/a/default-user=s64",
      "userId": "00053909376596844775"
     },
     "user_tz": -180
    },
    "id": "xxxjEVzG2H_o",
    "outputId": "56ed5c44-a7e9-478a-d79a-97675ad453af"
   },
   "outputs": [
    {
     "data": {
      "text/plain": [
       "Text(0.5, 0, 'Grades')"
      ]
     },
     "execution_count": 48,
     "metadata": {},
     "output_type": "execute_result"
    },
    {
     "data": {
      "image/png": "[encoded data removed]",
      "text/plain": [
       "<Figure size 648x360 with 1 Axes>"
      ]
     },
     "metadata": {},
     "output_type": "display_data"
    }
   ],
   "source": [
    "sns.histplot(restaurant_inspections_df.grade,color='#340087')\n",
    "plt.title('Distribution of Grades',fontsize= 15)\n",
    "plt.xlabel('Grades',fontsize= 12)\n"
   ]
  },
  {
   "cell_type": "markdown",
   "metadata": {
    "id": "ruchxam97Mem"
   },
   "source": [
    "A majority of the restaurants were given grade A which is very good."
   ]
  },
  {
   "cell_type": "markdown",
   "metadata": {
    "id": "8zg7NetmTgNg"
   },
   "source": [
    "**How are the grades distributed in each borough?**"
   ]
  },
  {
   "cell_type": "code",
   "execution_count": 49,
   "metadata": {
    "colab": {
     "base_uri": "https://localhost:8080/",
     "height": 342
    },
    "executionInfo": {
     "elapsed": 214,
     "status": "ok",
     "timestamp": 1634418660394,
     "user": {
      "displayName": "Frida",
      "photoUrl": "https://lh3.googleusercontent.com/a/default-user=s64",
      "userId": "00053909376596844775"
     },
     "user_tz": -180
    },
    "id": "-ycGYt9ETYlj",
    "outputId": "d64666a1-3ee8-4607-f28f-b09562e8ef4a"
   },
   "outputs": [
    {
     "data": {
      "image/png": "[encoded data removed]",
      "text/plain": [
       "<Figure size 648x360 with 1 Axes>"
      ]
     },
     "metadata": {},
     "output_type": "display_data"
    }
   ],
   "source": [
    "sns.countplot(x='boro',hue='grade',data=restaurant_inspections_df);"
   ]
  },
  {
   "cell_type": "markdown",
   "metadata": {
    "id": "MBMjtl-WI0wc"
   },
   "source": [
    "The most dominant grade in each borough is grade A."
   ]
  },
  {
   "cell_type": "markdown",
   "metadata": {
    "id": "cX_i4Vivz0bP"
   },
   "source": [
    "**Which types of inspections are carried out?**"
   ]
  },
  {
   "cell_type": "code",
   "execution_count": 50,
   "metadata": {
    "colab": {
     "base_uri": "https://localhost:8080/"
    },
    "executionInfo": {
     "elapsed": 205,
     "status": "ok",
     "timestamp": 1634418660395,
     "user": {
      "displayName": "Frida",
      "photoUrl": "https://lh3.googleusercontent.com/a/default-user=s64",
      "userId": "00053909376596844775"
     },
     "user_tz": -180
    },
    "id": "TTZa2gZUz8GB",
    "outputId": "2fa25e1e-d233-4d9e-f45c-b02f63fe6384"
   },
   "outputs": [
    {
     "data": {
      "text/plain": [
       "array(['Initial Inspection', 'Compliance Inspection', 'Re-inspection',\n",
       "       'Reopening Inspection', 'Second Compliance Inspection',\n",
       "       'Limited Inspection'], dtype=object)"
      ]
     },
     "execution_count": 50,
     "metadata": {},
     "output_type": "execute_result"
    }
   ],
   "source": [
    "#Extract the specific inspection types from the inspection type column and creating a column for it.\n",
    "restaurant_inspections_df['specific_inspection']=restaurant_inspections_df['inspection_type'].str.split(' / ').str[1]\n",
    "restaurant_inspections_df.specific_inspection.unique()\n"
   ]
  },
  {
   "cell_type": "markdown",
   "metadata": {
    "id": "6O7jSirw0oi8"
   },
   "source": [
    "**What are the counts for each of the inspection types?**"
   ]
  },
  {
   "cell_type": "code",
   "execution_count": 51,
   "metadata": {
    "executionInfo": {
     "elapsed": 196,
     "status": "ok",
     "timestamp": 1634418660396,
     "user": {
      "displayName": "Frida",
      "photoUrl": "https://lh3.googleusercontent.com/a/default-user=s64",
      "userId": "00053909376596844775"
     },
     "user_tz": -180
    },
    "id": "VV6lpPnx0mcf"
   },
   "outputs": [],
   "source": [
    "inspection_type_count = pd.DataFrame(restaurant_inspections_df.specific_inspection.value_counts(normalize=True))"
   ]
  },
  {
   "cell_type": "code",
   "execution_count": 52,
   "metadata": {
    "colab": {
     "base_uri": "https://localhost:8080/",
     "height": 235
    },
    "executionInfo": {
     "elapsed": 195,
     "status": "ok",
     "timestamp": 1634418660397,
     "user": {
      "displayName": "Frida",
      "photoUrl": "https://lh3.googleusercontent.com/a/default-user=s64",
      "userId": "00053909376596844775"
     },
     "user_tz": -180
    },
    "id": "UlWOWxxrG1PM",
    "outputId": "0ece8b89-11dd-447b-ea8e-e7e07d867111"
   },
   "outputs": [
    {
     "data": {
      "text/html": [
       "<div>\n",
       "<style scoped>\n",
       "    .dataframe tbody tr th:only-of-type {\n",
       "        vertical-align: middle;\n",
       "    }\n",
       "\n",
       "    .dataframe tbody tr th {\n",
       "        vertical-align: top;\n",
       "    }\n",
       "\n",
       "    .dataframe thead th {\n",
       "        text-align: right;\n",
       "    }\n",
       "</style>\n",
       "<table border=\"1\" class=\"dataframe\">\n",
       "  <thead>\n",
       "    <tr style=\"text-align: right;\">\n",
       "      <th></th>\n",
       "      <th>specific_inspection</th>\n",
       "    </tr>\n",
       "  </thead>\n",
       "  <tbody>\n",
       "    <tr>\n",
       "      <th>Initial Inspection</th>\n",
       "      <td>0.698120</td>\n",
       "    </tr>\n",
       "    <tr>\n",
       "      <th>Re-inspection</th>\n",
       "      <td>0.284310</td>\n",
       "    </tr>\n",
       "    <tr>\n",
       "      <th>Reopening Inspection</th>\n",
       "      <td>0.010222</td>\n",
       "    </tr>\n",
       "    <tr>\n",
       "      <th>Compliance Inspection</th>\n",
       "      <td>0.006998</td>\n",
       "    </tr>\n",
       "    <tr>\n",
       "      <th>Second Compliance Inspection</th>\n",
       "      <td>0.000340</td>\n",
       "    </tr>\n",
       "    <tr>\n",
       "      <th>Limited Inspection</th>\n",
       "      <td>0.000010</td>\n",
       "    </tr>\n",
       "  </tbody>\n",
       "</table>\n",
       "</div>"
      ],
      "text/plain": [
       "                              specific_inspection\n",
       "Initial Inspection                       0.698120\n",
       "Re-inspection                            0.284310\n",
       "Reopening Inspection                     0.010222\n",
       "Compliance Inspection                    0.006998\n",
       "Second Compliance Inspection             0.000340\n",
       "Limited Inspection                       0.000010"
      ]
     },
     "execution_count": 52,
     "metadata": {},
     "output_type": "execute_result"
    }
   ],
   "source": [
    "inspection_type_count"
   ]
  },
  {
   "cell_type": "markdown",
   "metadata": {
    "id": "vuFiXXIe2LWB"
   },
   "source": [
    "**How are the grades distributed among the different inspection types?**"
   ]
  },
  {
   "cell_type": "code",
   "execution_count": 53,
   "metadata": {
    "colab": {
     "base_uri": "https://localhost:8080/",
     "height": 266
    },
    "executionInfo": {
     "elapsed": 192,
     "status": "ok",
     "timestamp": 1634418660398,
     "user": {
      "displayName": "Frida",
      "photoUrl": "https://lh3.googleusercontent.com/a/default-user=s64",
      "userId": "00053909376596844775"
     },
     "user_tz": -180
    },
    "id": "vhPdCi2Ranlb",
    "outputId": "f9cddb09-203a-4f3f-dd6e-8267817d7afa"
   },
   "outputs": [
    {
     "data": {
      "text/html": [
       "<div>\n",
       "<style scoped>\n",
       "    .dataframe tbody tr th:only-of-type {\n",
       "        vertical-align: middle;\n",
       "    }\n",
       "\n",
       "    .dataframe tbody tr th {\n",
       "        vertical-align: top;\n",
       "    }\n",
       "\n",
       "    .dataframe thead th {\n",
       "        text-align: right;\n",
       "    }\n",
       "</style>\n",
       "<table border=\"1\" class=\"dataframe\">\n",
       "  <thead>\n",
       "    <tr style=\"text-align: right;\">\n",
       "      <th>specific_inspection</th>\n",
       "      <th>Compliance Inspection</th>\n",
       "      <th>Initial Inspection</th>\n",
       "      <th>Re-inspection</th>\n",
       "      <th>Reopening Inspection</th>\n",
       "    </tr>\n",
       "    <tr>\n",
       "      <th>grade</th>\n",
       "      <th></th>\n",
       "      <th></th>\n",
       "      <th></th>\n",
       "      <th></th>\n",
       "    </tr>\n",
       "  </thead>\n",
       "  <tbody>\n",
       "    <tr>\n",
       "      <th>A</th>\n",
       "      <td>0.000000</td>\n",
       "      <td>0.441467</td>\n",
       "      <td>0.352938</td>\n",
       "      <td>0.000038</td>\n",
       "    </tr>\n",
       "    <tr>\n",
       "      <th>B</th>\n",
       "      <td>0.000000</td>\n",
       "      <td>0.000000</td>\n",
       "      <td>0.135149</td>\n",
       "      <td>0.000013</td>\n",
       "    </tr>\n",
       "    <tr>\n",
       "      <th>C</th>\n",
       "      <td>0.000000</td>\n",
       "      <td>0.000000</td>\n",
       "      <td>0.030215</td>\n",
       "      <td>0.002352</td>\n",
       "    </tr>\n",
       "    <tr>\n",
       "      <th>Not Yet Graded</th>\n",
       "      <td>0.000006</td>\n",
       "      <td>0.016091</td>\n",
       "      <td>0.000538</td>\n",
       "      <td>0.000013</td>\n",
       "    </tr>\n",
       "    <tr>\n",
       "      <th>P</th>\n",
       "      <td>0.000000</td>\n",
       "      <td>0.000000</td>\n",
       "      <td>0.000000</td>\n",
       "      <td>0.007696</td>\n",
       "    </tr>\n",
       "    <tr>\n",
       "      <th>Z</th>\n",
       "      <td>0.000000</td>\n",
       "      <td>0.000019</td>\n",
       "      <td>0.011029</td>\n",
       "      <td>0.002435</td>\n",
       "    </tr>\n",
       "  </tbody>\n",
       "</table>\n",
       "</div>"
      ],
      "text/plain": [
       "specific_inspection  Compliance Inspection  ...  Reopening Inspection\n",
       "grade                                       ...                      \n",
       "A                                 0.000000  ...              0.000038\n",
       "B                                 0.000000  ...              0.000013\n",
       "C                                 0.000000  ...              0.002352\n",
       "Not Yet Graded                    0.000006  ...              0.000013\n",
       "P                                 0.000000  ...              0.007696\n",
       "Z                                 0.000000  ...              0.002435\n",
       "\n",
       "[6 rows x 4 columns]"
      ]
     },
     "execution_count": 53,
     "metadata": {},
     "output_type": "execute_result"
    }
   ],
   "source": [
    "pd.crosstab(restaurant_inspections_df.grade,restaurant_inspections_df.specific_inspection,normalize=True)"
   ]
  },
  {
   "cell_type": "code",
   "execution_count": 54,
   "metadata": {
    "colab": {
     "base_uri": "https://localhost:8080/",
     "height": 577
    },
    "executionInfo": {
     "elapsed": 190,
     "status": "ok",
     "timestamp": 1634418660399,
     "user": {
      "displayName": "Frida",
      "photoUrl": "https://lh3.googleusercontent.com/a/default-user=s64",
      "userId": "00053909376596844775"
     },
     "user_tz": -180
    },
    "id": "6m9rSs1MbW-8",
    "outputId": "a7980b3d-a4e8-4738-cdce-ea84781514f1"
   },
   "outputs": [
    {
     "data": {
      "text/plain": [
       "Text(0.5, 1.0, 'Grade Distribution by Inspection Type')"
      ]
     },
     "execution_count": 54,
     "metadata": {},
     "output_type": "execute_result"
    },
    {
     "data": {
      "image/png": "[encoded data removed]",
      "text/plain": [
       "<Figure size 864x432 with 1 Axes>"
      ]
     },
     "metadata": {},
     "output_type": "display_data"
    }
   ],
   "source": [
    "pd.crosstab(restaurant_inspections_df.specific_inspection,restaurant_inspections_df.grade,normalize=True).plot(kind='bar', figsize=(12,6), stacked=True)\n",
    "plt.title('Grade Distribution by Inspection Type', fontsize = 15)"
   ]
  },
  {
   "cell_type": "markdown",
   "metadata": {
    "id": "_c1ksz2I7vU5"
   },
   "source": [
    "**What are the mean, min and max scores given?**"
   ]
  },
  {
   "cell_type": "code",
   "execution_count": 55,
   "metadata": {
    "executionInfo": {
     "elapsed": 178,
     "status": "ok",
     "timestamp": 1634418660400,
     "user": {
      "displayName": "Frida",
      "photoUrl": "https://lh3.googleusercontent.com/a/default-user=s64",
      "userId": "00053909376596844775"
     },
     "user_tz": -180
    },
    "id": "T4ueQW4690dG"
   },
   "outputs": [],
   "source": [
    "mean_score =restaurant_inspections_df.score.mean()\n",
    "min_score =restaurant_inspections_df.score.min()\n",
    "max_score = restaurant_inspections_df.score.max()"
   ]
  },
  {
   "cell_type": "code",
   "execution_count": 56,
   "metadata": {
    "colab": {
     "base_uri": "https://localhost:8080/"
    },
    "executionInfo": {
     "elapsed": 186,
     "status": "ok",
     "timestamp": 1634418660409,
     "user": {
      "displayName": "Frida",
      "photoUrl": "https://lh3.googleusercontent.com/a/default-user=s64",
      "userId": "00053909376596844775"
     },
     "user_tz": -180
    },
    "id": "UDmfw4CP_5Zu",
    "outputId": "f2d20d56-c841-4530-c37f-0d1db5a41074"
   },
   "outputs": [
    {
     "name": "stdout",
     "output_type": "stream",
     "text": [
      "The mean score of the inspection is 18 , the minimum score is -2 and the maximum score given is 151.\n"
     ]
    }
   ],
   "source": [
    "print('The mean score of the inspection is {} , the minimum score is {} and the maximum score given is {}.'.format(int(mean_score), int(min_score),int(max_score)))"
   ]
  },
  {
   "cell_type": "markdown",
   "metadata": {
    "id": "tGYY9ZrWKMt1"
   },
   "source": [
    "The scores seems to have extreme values. Let's visualize the score data."
   ]
  },
  {
   "cell_type": "code",
   "execution_count": 57,
   "metadata": {
    "colab": {
     "base_uri": "https://localhost:8080/",
     "height": 525
    },
    "executionInfo": {
     "elapsed": 1096,
     "status": "ok",
     "timestamp": 1634418661330,
     "user": {
      "displayName": "Frida",
      "photoUrl": "https://lh3.googleusercontent.com/a/default-user=s64",
      "userId": "00053909376596844775"
     },
     "user_tz": -180
    },
    "id": "d2io3f5NKMUP",
    "outputId": "2a7bfcdd-f08c-4616-e34f-829159255b08"
   },
   "outputs": [
    {
     "data": {
      "image/png": "[encoded data removed]",
      "text/plain": [
       "<Figure size 1080x576 with 1 Axes>"
      ]
     },
     "metadata": {},
     "output_type": "display_data"
    }
   ],
   "source": [
    "plt.figure(figsize=(15,8))\n",
    "plt.title('Yearly Scores Distribution')\n",
    "sns.boxplot(x='year',y='score',data= restaurant_inspections_df,\n",
    "            linewidth=2,showmeans=True,color='y',fliersize=3);"
   ]
  },
  {
   "cell_type": "markdown",
   "metadata": {
    "id": "QQfn6ji3XvDL"
   },
   "source": [
    "**Grades and scores**"
   ]
  },
  {
   "cell_type": "code",
   "execution_count": 58,
   "metadata": {
    "colab": {
     "base_uri": "https://localhost:8080/",
     "height": 525
    },
    "executionInfo": {
     "elapsed": 68,
     "status": "ok",
     "timestamp": 1634418661332,
     "user": {
      "displayName": "Frida",
      "photoUrl": "https://lh3.googleusercontent.com/a/default-user=s64",
      "userId": "00053909376596844775"
     },
     "user_tz": -180
    },
    "id": "F_OGYOvqXuji",
    "outputId": "0a8c8d36-43df-48c7-80cc-43f3b4ac4e3e"
   },
   "outputs": [
    {
     "data": {
      "image/png": "[encoded data removed]",
      "text/plain": [
       "<Figure size 1080x576 with 1 Axes>"
      ]
     },
     "metadata": {},
     "output_type": "display_data"
    }
   ],
   "source": [
    "plt.figure(figsize=(15,8))\n",
    "plt.title('Grades and Scores')\n",
    "sns.boxplot(y='score',x='grade',data=restaurant_inspections_df,showmeans=True,palette='plasma',fliersize=3);"
   ]
  },
  {
   "cell_type": "markdown",
   "metadata": {
    "id": "AGadYat2XPdD"
   },
   "source": [
    "# **Violations:**"
   ]
  },
  {
   "cell_type": "markdown",
   "metadata": {
    "id": "nVeVxroi4KSG"
   },
   "source": [
    "**What actions were taken during the inspection?**"
   ]
  },
  {
   "cell_type": "code",
   "execution_count": 61,
   "metadata": {
    "colab": {
     "base_uri": "https://localhost:8080/"
    },
    "executionInfo": {
     "elapsed": 93,
     "status": "ok",
     "timestamp": 1634418662898,
     "user": {
      "displayName": "Frida",
      "photoUrl": "https://lh3.googleusercontent.com/a/default-user=s64",
      "userId": "00053909376596844775"
     },
     "user_tz": -180
    },
    "id": "69fta8Hd4Yka",
    "outputId": "846c171a-4a07-4eda-a3d1-76e58420de10"
   },
   "outputs": [
    {
     "data": {
      "text/plain": [
       "Violations were cited in the following area(s).                                                                                        298167\n",
       "Establishment Closed by DOHMH.  Violations were cited in the following area(s) and those requiring immediate action were addressed.      7341\n",
       "No violations were recorded at the time of this inspection.                                                                              3742\n",
       "Establishment re-opened by DOHMH                                                                                                         2171\n",
       "Establishment re-closed by DOHMH                                                                                                          657\n",
       "Name: action, dtype: int64"
      ]
     },
     "execution_count": 61,
     "metadata": {},
     "output_type": "execute_result"
    }
   ],
   "source": [
    "restaurant_inspections_df.action.value_counts()"
   ]
  },
  {
   "cell_type": "markdown",
   "metadata": {
    "id": "rEA79jyzN2jS"
   },
   "source": [
    "**Violation Description**"
   ]
  },
  {
   "cell_type": "code",
   "execution_count": 62,
   "metadata": {
    "colab": {
     "base_uri": "https://localhost:8080/"
    },
    "executionInfo": {
     "elapsed": 3019,
     "status": "ok",
     "timestamp": 1634418665872,
     "user": {
      "displayName": "Frida",
      "photoUrl": "https://lh3.googleusercontent.com/a/default-user=s64",
      "userId": "00053909376596844775"
     },
     "user_tz": -180
    },
    "id": "ab0eqv5MOVsh",
    "outputId": "9aa12715-ee4b-4b10-8a75-144ccfe1e141"
   },
   "outputs": [
    {
     "name": "stdout",
     "output_type": "stream",
     "text": [
      "Requirement already satisfied: wordcloud in /usr/local/lib/python3.7/dist-packages (1.5.0)\n",
      "Requirement already satisfied: pillow in /usr/local/lib/python3.7/dist-packages (from wordcloud) (7.1.2)\n",
      "Requirement already satisfied: numpy>=1.6.1 in /usr/local/lib/python3.7/dist-packages (from wordcloud) (1.21.2)\n"
     ]
    }
   ],
   "source": [
    "pip install wordcloud"
   ]
  },
  {
   "cell_type": "code",
   "execution_count": 63,
   "metadata": {
    "executionInfo": {
     "elapsed": 38,
     "status": "ok",
     "timestamp": 1634418665873,
     "user": {
      "displayName": "Frida",
      "photoUrl": "https://lh3.googleusercontent.com/a/default-user=s64",
      "userId": "00053909376596844775"
     },
     "user_tz": -180
    },
    "id": "-7fJ_wZs7YVj"
   },
   "outputs": [],
   "source": [
    "from wordcloud import WordCloud"
   ]
  },
  {
   "cell_type": "code",
   "execution_count": 64,
   "metadata": {
    "executionInfo": {
     "elapsed": 33,
     "status": "ok",
     "timestamp": 1634418665874,
     "user": {
      "displayName": "Frida",
      "photoUrl": "https://lh3.googleusercontent.com/a/default-user=s64",
      "userId": "00053909376596844775"
     },
     "user_tz": -180
    },
    "id": "JmWRlTfPLqU5"
   },
   "outputs": [],
   "source": [
    "text = ''.join((desc for desc in restaurant_inspections_df.violation_description.dropna().str.replace('nan','')))"
   ]
  },
  {
   "cell_type": "code",
   "execution_count": 65,
   "metadata": {
    "colab": {
     "base_uri": "https://localhost:8080/",
     "height": 466
    },
    "executionInfo": {
     "elapsed": 14611,
     "status": "ok",
     "timestamp": 1634418680453,
     "user": {
      "displayName": "Frida",
      "photoUrl": "https://lh3.googleusercontent.com/a/default-user=s64",
      "userId": "00053909376596844775"
     },
     "user_tz": -180
    },
    "id": "G0e-MGdm9v6V",
    "outputId": "d2d4981c-c8b1-4082-9597-54947f060f1b"
   },
   "outputs": [
    {
     "data": {
      "image/png": "[encoded data removed]",
      "text/plain": [
       "<Figure size 1152x576 with 1 Axes>"
      ]
     },
     "metadata": {},
     "output_type": "display_data"
    }
   ],
   "source": [
    "wordcloud = WordCloud(background_color='white').generate(text)\n",
    "plt.figure(figsize=(16,8))\n",
    "plt.axis('off')\n",
    "plt.grid(False)\n",
    "plt.imshow(wordcloud);"
   ]
  },
  {
   "cell_type": "markdown",
   "metadata": {
    "id": "DagB9dJR3o-x"
   },
   "source": [
    "Most violations involved food contact,contact surface and non food."
   ]
  },
  {
   "cell_type": "markdown",
   "metadata": {
    "id": "1-wMpkdM8214"
   },
   "source": [
    "**What are the counts of critical flags given during restaurant inspection?**"
   ]
  },
  {
   "cell_type": "code",
   "execution_count": 66,
   "metadata": {
    "executionInfo": {
     "elapsed": 24,
     "status": "ok",
     "timestamp": 1634418680454,
     "user": {
      "displayName": "Frida",
      "photoUrl": "https://lh3.googleusercontent.com/a/default-user=s64",
      "userId": "00053909376596844775"
     },
     "user_tz": -180
    },
    "id": "bVbtc5pD8-LX"
   },
   "outputs": [],
   "source": [
    "critical_counts = restaurant_inspections_df.critical_flag.value_counts()"
   ]
  },
  {
   "cell_type": "code",
   "execution_count": 67,
   "metadata": {
    "colab": {
     "base_uri": "https://localhost:8080/",
     "height": 486
    },
    "executionInfo": {
     "elapsed": 24,
     "status": "ok",
     "timestamp": 1634418680456,
     "user": {
      "displayName": "Frida",
      "photoUrl": "https://lh3.googleusercontent.com/a/default-user=s64",
      "userId": "00053909376596844775"
     },
     "user_tz": -180
    },
    "id": "5quIjAa7lRXa",
    "outputId": "b43e9f5c-b91d-438f-cebe-e4597d9e9472"
   },
   "outputs": [
    {
     "data": {
      "image/png": "[encoded data removed]",
      "text/plain": [
       "<Figure size 1080x576 with 1 Axes>"
      ]
     },
     "metadata": {},
     "output_type": "display_data"
    }
   ],
   "source": [
    "plt.figure(figsize=(15,8))\n",
    "plt.title('Critical Flags')\n",
    "plt.pie(critical_counts, labels=critical_counts.index, autopct='%1.1f%%',colors=['#161917','#c3bc33','#6c6a35']);\n",
    "plt.legend(loc='upper left')\n",
    "circle= plt.Circle(xy=(0,0),radius=.75,facecolor='white')\n",
    "plt.gca().add_artist(circle)\n",
    "plt.show()"
   ]
  },
  {
   "cell_type": "markdown",
   "metadata": {
    "id": "i_4Covlq9nYB"
   },
   "source": [
    "**Which violations are associated with critical flag of critical?**"
   ]
  },
  {
   "cell_type": "code",
   "execution_count": 68,
   "metadata": {
    "executionInfo": {
     "elapsed": 23,
     "status": "ok",
     "timestamp": 1634418680457,
     "user": {
      "displayName": "Frida",
      "photoUrl": "https://lh3.googleusercontent.com/a/default-user=s64",
      "userId": "00053909376596844775"
     },
     "user_tz": -180
    },
    "id": "rVapR-OE9dV3"
   },
   "outputs": [],
   "source": [
    "critical_violations = restaurant_inspections_df[(restaurant_inspections_df.critical_flag == 'Critical')]\n"
   ]
  },
  {
   "cell_type": "code",
   "execution_count": 69,
   "metadata": {
    "colab": {
     "base_uri": "https://localhost:8080/"
    },
    "executionInfo": {
     "elapsed": 24,
     "status": "ok",
     "timestamp": 1634418680459,
     "user": {
      "displayName": "Frida",
      "photoUrl": "https://lh3.googleusercontent.com/a/default-user=s64",
      "userId": "00053909376596844775"
     },
     "user_tz": -180
    },
    "id": "sPKKktDFDazs",
    "outputId": "e2bb0d46-b3d9-4f52-e3d3-0d89a4e35735"
   },
   "outputs": [
    {
     "data": {
      "text/plain": [
       "Food not protected from potential source of contamination during storage, preparation, transportation, display or service.                                                                                                                                                                           21808\n",
       "Evidence of mice or live mice present in facility's food and/or non-food areas.                                                                                                                                                                                                                      21759\n",
       "Food contact surface not properly washed, rinsed and sanitized after each use and following any activity when contamination may have occurred.                                                                                                                                                       21038\n",
       "Cold food item held above 41Âº F (smoked fish and reduced oxygen packaged foods above 38 ÂºF) except during necessary preparation.                                                                                                                                                                   20754\n",
       "Hot food item not held at or above 140Âº F.                                                                                                                                                                                                                                                          15586\n",
       "Filth flies or food/refuse/sewage-associated (FRSA) flies present in facility\u001as food and/or non-food areas. Filth flies include house flies, little house flies, blow flies, bottle flies and flesh flies. Food/refuse/sewage-associated flies include fruit flies, drain flies and Phorid flies.    14994\n",
       "Sanitized equipment or utensil, including in-use food dispensing utensil, improperly used or stored.                                                                                                                                                                                                  6815\n",
       "Raw, cooked or prepared food is adulterated, contaminated, cross-contaminated, or not discarded in accordance with HACCP plan.                                                                                                                                                                        6635\n",
       "Live roaches present in facility's food and/or non-food areas.                                                                                                                                                                                                                                        6593\n",
       "Wiping cloths soiled or not stored in sanitizing solution.                                                                                                                                                                                                                                            6229\n",
       "Name: violation_description, dtype: int64"
      ]
     },
     "execution_count": 69,
     "metadata": {},
     "output_type": "execute_result"
    }
   ],
   "source": [
    "critical_violations['violation_description'].value_counts().sort_values(ascending=False).head(10)\n"
   ]
  },
  {
   "cell_type": "code",
   "execution_count": 74,
   "metadata": {
    "executionInfo": {
     "elapsed": 605,
     "status": "ok",
     "timestamp": 1634418804306,
     "user": {
      "displayName": "Frida",
      "photoUrl": "https://lh3.googleusercontent.com/a/default-user=s64",
      "userId": "00053909376596844775"
     },
     "user_tz": -180
    },
    "id": "RTS4kVG7Fz1n"
   },
   "outputs": [],
   "source": [
    "words = ''.join((desc for desc in critical_violations.violation_description.dropna().str.replace('nan','')))"
   ]
  },
  {
   "cell_type": "code",
   "execution_count": 71,
   "metadata": {
    "colab": {
     "base_uri": "https://localhost:8080/",
     "height": 466
    },
    "executionInfo": {
     "elapsed": 5746,
     "status": "ok",
     "timestamp": 1634418686188,
     "user": {
      "displayName": "Frida",
      "photoUrl": "https://lh3.googleusercontent.com/a/default-user=s64",
      "userId": "00053909376596844775"
     },
     "user_tz": -180
    },
    "id": "7OMIBDcWHlHZ",
    "outputId": "6464bfed-c2bc-4ba5-9ad0-fd39af79fd34"
   },
   "outputs": [
    {
     "data": {
      "image/png": "[encoded data removed]",
      "text/plain": [
       "<Figure size 1152x576 with 1 Axes>"
      ]
     },
     "metadata": {},
     "output_type": "display_data"
    }
   ],
   "source": [
    "wordcloud = WordCloud(background_color='black').generate(words)\n",
    "plt.figure(figsize=(16,8))\n",
    "plt.axis('off')\n",
    "plt.grid(False)\n",
    "plt.imshow(wordcloud);"
   ]
  },
  {
   "cell_type": "markdown",
   "metadata": {
    "id": "Yq41cAmatSoq"
   },
   "source": [
    "# **Summary:**"
   ]
  },
  {
   "cell_type": "markdown",
   "metadata": {
    "id": "I-yZPpkxyZwJ"
   },
   "source": [
    "From the analysis: \n",
    "* NYC restarants are quite compliant with safety regulations. Most restaurants scored grade A.\n",
    "* The distribution of inspection is balanced throughout the year,month and day of the week.\n",
    "* The most inspected borough is Manhattan. It has also the highest number of restaurants.\n",
    "\n",
    "\n",
    "\n"
   ]
  },
  {
   "cell_type": "markdown",
   "metadata": {
    "id": "2RbF7alNtbaX"
   },
   "source": [
    "# **Future Work:**"
   ]
  },
  {
   "cell_type": "markdown",
   "metadata": {
    "id": "xkGZTNimzw2c"
   },
   "source": [
    "Ideas to explore further:\n",
    "* Use maps to see the distribution of various inspection types,grades and violations in different locations of New York.\n",
    "* Explore cuisine types and grade using a better dataset.\n",
    "*Carry out the same analysis per year to see the inspection trends."
   ]
  },
  {
   "cell_type": "markdown",
   "metadata": {
    "id": "0lmnUxxxtknB"
   },
   "source": [
    "# **References:**"
   ]
  },
  {
   "cell_type": "markdown",
   "metadata": {
    "id": "KPmZOeLntywE"
   },
   "source": [
    "These are useful links that were helpful for this project.<br>\n",
    "https://jovian.ai/learn/zero-to-data-analyst-bootcamp/assignment/project-2-exploratory-data-analysis\n",
    "https://www1.nyc.gov/site/doh/services/restaurant-grades.page \n",
    "https://www1.nyc.gov/assets/doh/downloads/pdf/rii/inspection-cycle-overview.pdf"
   ]
  }
 ],
 "metadata": {
  "colab": {
   "collapsed_sections": [],
   "name": "exploratory-data-analysis-project.ipynb",
   "provenance": []
  },
  "language_info": {
   "codemirror_mode": {
    "name": "ipython",
    "version": 3
   },
   "file_extension": ".py",
   "mimetype": "text/x-python",
   "name": "python",
   "nbconvert_exporter": "python",
   "pygments_lexer": "ipython3",
   "version": "3.7.6"
  }
 },
 "nbformat": 4,
 "nbformat_minor": 0
}
